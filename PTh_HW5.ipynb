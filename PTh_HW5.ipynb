{
  "cells": [
    {
      "cell_type": "markdown",
      "id": "21a555e9",
      "metadata": {
        "id": "21a555e9"
      },
      "source": [
        "\n",
        "### Задача 1\n",
        "\n",
        "_Когда используется критерий Стьюдента, а когда Z –критерий?_"
      ]
    },
    {
      "cell_type": "markdown",
      "id": "a8c79a6a",
      "metadata": {
        "id": "a8c79a6a"
      },
      "source": [
        "$t$-критерий (Стьюдента) используется, когда дисперсия $\\sigma$ генеральной совокупности неизвестна,  и когда размер выборки мал (n < 30). Критерий Стьюдента используется для оценки статистической значимости различий между двумя выборками, когда известны только их средние и стандартные отклонения.\n",
        "\n",
        "$Z$-критерий используется, когда известна дисперсия $\\sigma$ генеральной совокупности, и когда размер выборки велик (n> 30). Z-критерий используется для оценки статистической значимости различий между двумя выборками, когда известны их средние, стандартные отклонения и размеры выборок, а также когда данные распределены нормально."
      ]
    },
    {
      "cell_type": "markdown",
      "id": "01afbec7",
      "metadata": {
        "id": "01afbec7"
      },
      "source": [
        "### Задача 2\n",
        "\n",
        "_Проведите тест гипотезы.  \n",
        "Утверждается, что шарики для подшипников,изготовленные автоматическим станком, имеют средний диаметр 17 мм. Используя односторонний критерий с α=0,05, проверить эту гипотезу, если в выборке из n=100 шариков средний диаметр оказался равным 17.5 мм, а дисперсия известна и равна 4 кв. мм._  "
      ]
    },
    {
      "cell_type": "code",
      "source": [
        "import numpy as np\n",
        "from scipy import stats"
      ],
      "metadata": {
        "id": "cgf_Hr3ZSZjY"
      },
      "id": "cgf_Hr3ZSZjY",
      "execution_count": 1,
      "outputs": []
    },
    {
      "cell_type": "markdown",
      "source": [
        "Сформулируем нулевую гипотезу:  \n",
        "    $H0: \\mu=\\mu_0=17$, где $\\mu$ и $\\mu_0$ средние выборки и генеральной совокупности и выборки, соответственно.  \n",
        "Альтернативная гипотеза:  \n",
        "$H1: \\mu>\\mu_0$  \n",
        "Поскольку нам известны и среднее и дисперсия генеральной совокупности, то для проверки гипотезы будем использовать $Z$-критерий.  \n",
        "$z_н=\\frac{\\bar X-\\mu_0}{\\sigma/\\sqrt n}$, где  \n",
        "$\\bar X=\\mu=17.5$ среднее по выборке,  \n",
        "$\\sigma=\\sqrt 4=2$ среднее квадратическое отклонение генеральной совокупности,  \n",
        "$n=100$ размер выборки."
      ],
      "metadata": {
        "id": "YevpV4RX854e"
      },
      "id": "YevpV4RX854e"
    },
    {
      "cell_type": "code",
      "source": [
        "zn=(17.5-17)/0.2\n",
        "print(f'zn: {zn: .4f}')"
      ],
      "metadata": {
        "colab": {
          "base_uri": "https://localhost:8080/"
        },
        "id": "blIjEOqF9M7u",
        "outputId": "674d19ed-f7ba-4129-c4e6-59881bbeb271"
      },
      "id": "blIjEOqF9M7u",
      "execution_count": 5,
      "outputs": [
        {
          "output_type": "stream",
          "name": "stdout",
          "text": [
            "zn:  2.5000\n"
          ]
        }
      ]
    },
    {
      "cell_type": "markdown",
      "source": [
        "Найдем табличное значение $Z$-критерия, для $\\alpha=0.05$"
      ],
      "metadata": {
        "id": "EF3wx-ZK9a5O"
      },
      "id": "EF3wx-ZK9a5O"
    },
    {
      "cell_type": "code",
      "source": [
        "zt=stats.norm.ppf(0.95)\n",
        "print(f'zt: {zt: .4f}')"
      ],
      "metadata": {
        "colab": {
          "base_uri": "https://localhost:8080/"
        },
        "id": "QbI3gzUX9cTd",
        "outputId": "79c4185d-f7d6-4281-9a3b-ab26e0389095"
      },
      "id": "QbI3gzUX9cTd",
      "execution_count": 3,
      "outputs": [
        {
          "output_type": "stream",
          "name": "stdout",
          "text": [
            "zt:  1.6449\n"
          ]
        }
      ]
    },
    {
      "cell_type": "markdown",
      "source": [
        "Поскольку  zn>zt , **отвергаем** нулевую гипотезу на уровне значимости  α=0.05. Принимаем альтернативную гипотезу Н1."
      ],
      "metadata": {
        "id": "FdD4W1RI9vvy"
      },
      "id": "FdD4W1RI9vvy"
    },
    {
      "cell_type": "markdown",
      "id": "a1ca5624",
      "metadata": {
        "id": "a1ca5624"
      },
      "source": [
        "### Задача 3\n",
        "\n",
        "_Проведите тест гипотезы.  \n",
        "Продавец утверждает, что средний вес пачки печенья составляет 200 г.  \n",
        "Из партии извлечена выборка из 10 пачек. Вес каждой пачки составляет:_\n",
        "\n",
        "_202, 203, 199, 197, 195, 201, 200, 204, 194, 190._\n",
        "\n",
        "_Известно, что их веса распределены нормально.  \n",
        "Верно ли утверждение продавца, если учитывать, что доверительная вероятность равна 99%? (Провести двусторонний тест.)_"
      ]
    },
    {
      "cell_type": "markdown",
      "source": [
        "Нужно проводить проверку следующих гипотез:  \n",
        "$H0: \\mu=\\mu_0=200$, где $\\mu$ и $\\mu_0$ средние выборки и генеральной совокупности и выборки, соответственно.  \n",
        "Альтернативная гипотеза:  \n",
        "$H1: \\mu\\neq\\mu_0$  \n",
        "\n",
        "При этом будем использовать **двусторонний** критерий c уровнем значимости $\\alpha=1-0.99=0.01$.  \n",
        "Поскольку нам не известны ни среднее, ни дисперсия генеральной совокупности, то для проверки гипотезы будем использовать $t$-критерий.\n",
        "\n",
        "Расчитаем наблюдаемое значение t-критерия  tн :"
      ],
      "metadata": {
        "id": "wlZiocRo_NYY"
      },
      "id": "wlZiocRo_NYY"
    },
    {
      "cell_type": "code",
      "source": [
        "arr=np.array([202, 203, 199, 197, 195, 201, 200, 204, 194, 190])\n",
        "tn=(np.mean(arr)-200)/(np.std(arr,ddof=1)/len(arr)**0.5)\n",
        "print(f'tn: {tn: .4f}')"
      ],
      "metadata": {
        "colab": {
          "base_uri": "https://localhost:8080/"
        },
        "id": "lmG7sQo6_uPh",
        "outputId": "59c6c554-4f02-4ec6-8323-9a6fbbfe85d4"
      },
      "id": "lmG7sQo6_uPh",
      "execution_count": 4,
      "outputs": [
        {
          "output_type": "stream",
          "name": "stdout",
          "text": [
            "tn: -1.0651\n"
          ]
        }
      ]
    },
    {
      "cell_type": "markdown",
      "source": [
        "Найдем табличное значение  t -критерия для  α/2=0.01/2=0.005"
      ],
      "metadata": {
        "id": "TQH2sxipAM4A"
      },
      "id": "TQH2sxipAM4A"
    },
    {
      "cell_type": "code",
      "source": [
        "tt=stats.t.ppf(0.995,len(arr)-1)\n",
        "print(f'tt: {tt: .4f}')"
      ],
      "metadata": {
        "colab": {
          "base_uri": "https://localhost:8080/"
        },
        "id": "5f4D9F6yAddN",
        "outputId": "36fa2d79-4442-474c-9913-86b86b1a7fa2"
      },
      "id": "5f4D9F6yAddN",
      "execution_count": 6,
      "outputs": [
        {
          "output_type": "stream",
          "name": "stdout",
          "text": [
            "tt:  3.2498\n"
          ]
        }
      ]
    },
    {
      "cell_type": "markdown",
      "source": [
        "Поскольку $|t_н|<t_t$, **принимаем** нулевую гипотезу на уровне значимости $\\alpha=0.01$  "
      ],
      "metadata": {
        "id": "osdrunGsAqIM"
      },
      "id": "osdrunGsAqIM"
    },
    {
      "cell_type": "markdown",
      "id": "70950c2c",
      "metadata": {
        "id": "70950c2c"
      },
      "source": [
        "### Задача 4\n",
        "\n",
        "_Есть ли статистически значимые различия в росте дочерей?_  \n",
        "\n",
        "_Рост матерей 172, 177, 158, 170, 178,175, 164, 160, 169, 165_  \n",
        "_Рост взрослых дочерей: 173, 175, 162, 174, 175, 168, 155, 170, 160_  "
      ]
    },
    {
      "cell_type": "markdown",
      "source": [
        "Выборки из условия задачи имеют неэквивалентную длину, поэтому уберем последнее значение из большей выборки.\n",
        "\n",
        "Принимаем α = 0.05 Используем двух-выборочную t-проверку."
      ],
      "metadata": {
        "id": "to5mHbn-BcqW"
      },
      "id": "to5mHbn-BcqW"
    },
    {
      "cell_type": "code",
      "source": [
        "H_m = [172, 177, 158, 170, 178, 175, 164, 160, 169]\n",
        "H_d = [173, 175, 162, 174, 175, 168, 155, 170, 160]\n",
        "stats.ttest_rel(H_m, H_d)"
      ],
      "metadata": {
        "colab": {
          "base_uri": "https://localhost:8080/"
        },
        "id": "xnEI3WmdCfxl",
        "outputId": "571320da-b4c9-4163-f3cf-0daa87acecbb"
      },
      "id": "xnEI3WmdCfxl",
      "execution_count": 7,
      "outputs": [
        {
          "output_type": "execute_result",
          "data": {
            "text/plain": [
              "TtestResult(statistic=0.559522990335608, pvalue=0.5911212354055175, df=8)"
            ]
          },
          "metadata": {},
          "execution_count": 7
        }
      ]
    },
    {
      "cell_type": "markdown",
      "source": [
        "Статистически значимых различий **не обнаружено** т.к. pvalue > α."
      ],
      "metadata": {
        "id": "GH64UAxGCtjA"
      },
      "id": "GH64UAxGCtjA"
    }
  ],
  "metadata": {
    "kernelspec": {
      "display_name": "Python 3 (ipykernel)",
      "language": "python",
      "name": "python3"
    },
    "language_info": {
      "codemirror_mode": {
        "name": "ipython",
        "version": 3
      },
      "file_extension": ".py",
      "mimetype": "text/x-python",
      "name": "python",
      "nbconvert_exporter": "python",
      "pygments_lexer": "ipython3",
      "version": "3.9.13"
    },
    "colab": {
      "provenance": []
    }
  },
  "nbformat": 4,
  "nbformat_minor": 5
}